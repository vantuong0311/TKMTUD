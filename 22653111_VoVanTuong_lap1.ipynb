{
 "cells": [
  {
   "cell_type": "markdown",
   "metadata": {
    "id": "Cj3g7_Xjv0cQ"
   },
   "source": [
    "# Lab 01 - Bài tập"
   ]
  },
  {
   "cell_type": "markdown",
   "metadata": {
    "id": "uHya_O8Nv9Bg"
   },
   "source": [
    "## PYTHON\n"
   ]
  },
  {
   "cell_type": "markdown",
   "metadata": {},
   "source": [
    "1. Viết chương trình nhập vào số nguyên n (n>0). In ra các số nguyên tố từ 1..n\n"
   ]
  },
  {
   "cell_type": "code",
   "execution_count": null,
   "metadata": {
    "id": "AnQZ06Hxxwlo"
   },
   "outputs": [],
   "source": [
    "def is_prime(num):\n",
    "    \"\"\"Kiểm tra số nguyên tố\"\"\"\n",
    "    if num < 2:\n",
    "        return False\n",
    "    for i in range(2, int(num**0.5) + 1):\n",
    "        if num % i == 0:\n",
    "            return False\n",
    "    return True\n",
    "\n",
    "def print_primes(n):\n",
    "    \"\"\"In các số nguyên tố từ 1 đến n\"\"\"\n",
    "    if n <= 0:\n",
    "        print(\"Vui lòng nhập số nguyên lớn hơn 0.\")\n",
    "        return\n",
    "    \n",
    "    print(f\"Các số nguyên tố từ 1 đến {n} là:\")\n",
    "    for i in range(1, n + 1):\n",
    "        if is_prime(i):\n",
    "            print(i, end=\" \")\n",
    "\n",
    "# Nhập số nguyên n\n",
    "try:\n",
    "    n = int(input(\"Nhập số nguyên n (n > 0): \"))\n",
    "    if n > 0:\n",
    "        print_primes(n)\n",
    "    else:\n",
    "        print(\"Vui lòng nhập số lớn hơn 0.\")\n",
    "except ValueError:\n",
    "    print(\"Vui lòng nhập một số nguyên hợp lệ.\")\n"
   ]
  },
  {
   "cell_type": "markdown",
   "metadata": {
    "id": "XpmGHRLRxx34"
   },
   "source": [
    "2. Viết chương trình nhập vào số nguyên n có 3 chữ số. Tính tổng các chữ số của n"
   ]
  },
  {
   "cell_type": "code",
   "execution_count": 4,
   "metadata": {
    "id": "AXOFJ9Iwvtvh"
   },
   "outputs": [
    {
     "name": "stdout",
     "output_type": "stream",
     "text": [
      "nhập số nguyên có 3 chữ số123\n",
      "tổng các số của 123  là :6\n"
     ]
    }
   ],
   "source": [
    "a = int(input(\"nhập số nguyên có 3 chữ số\"))\n",
    "if 100<= abs(a) <=999:\n",
    "    phan_tram = abs(a)//100\n",
    "    phan_chuc = (abs(a)//10)%10\n",
    "    phan_DV = abs(a)%10\n",
    "    tong = phan_tram + phan_chuc + phan_DV\n",
    "    print(f\"tổng các số của {a} là : {tong}\")\n",
    "else : \n",
    "    print(\"vui lòng nhập lại 1 số có 3 chữ số\")"
   ]
  },
  {
   "cell_type": "markdown",
   "metadata": {
    "id": "oba6gvmwyFrZ"
   },
   "source": [
    "3. Viết chương trình nhập vào một dãy các số nguyên được cách nhau bởi khoảng trắng (VD: 32 8 4 6 9...) lưu vào python ở dạng mảng. Thực hiện\n",
    "\n",
    "- Xuất mảng\n",
    "- Tính tổng các phần tử của mảng\n",
    "- Tìm số lớn nhất\n",
    "- Tìm số bé nhất\n",
    "- Sắp xếp mảng theo thứ tự giảm dần\n",
    "- In ra các số chẵn trong mảng"
   ]
  },
  {
   "cell_type": "code",
   "execution_count": 1,
   "metadata": {
    "id": "9XBwANmGyFyY"
   },
   "outputs": [
    {
     "name": "stdout",
     "output_type": "stream",
     "text": [
      "Nhập dãy các số nguyên, cách nhau bởi khoảng trắng: 4 5 4\n",
      "Mảng đã nhập: [4, 5, 4]\n",
      "Tổng các phần tử của mảng: 13\n",
      "Số lớn nhất trong mảng: 5\n",
      "Số bé nhất trong mảng: 4\n",
      "Mảng sau khi sắp xếp giảm dần: [5, 4, 4]\n",
      "Các số chẵn trong mảng: [4, 4]\n"
     ]
    }
   ],
   "source": [
    "# Nhập vào dãy các số nguyên, lưu vào mảng\n",
    "input_string = input(\"Nhập dãy các số nguyên, cách nhau bởi khoảng trắng: \")\n",
    "array = list(map(int, input_string.split()))\n",
    "\n",
    "# Xuất mảng\n",
    "print(\"Mảng đã nhập:\", array)\n",
    "\n",
    "# Tính tổng các phần tử của mảng\n",
    "tong = sum(array)\n",
    "print(\"Tổng các phần tử của mảng:\", tong)\n",
    "\n",
    "# Tìm số lớn nhất\n",
    "max_value = max(array)\n",
    "print(\"Số lớn nhất trong mảng:\", max_value)\n",
    "\n",
    "# Tìm số bé nhất\n",
    "min_value = min(array)\n",
    "print(\"Số bé nhất trong mảng:\", min_value)\n",
    "\n",
    "# Sắp xếp mảng theo thứ tự giảm dần\n",
    "sorted_array = sorted(array, reverse=True)\n",
    "print(\"Mảng sau khi sắp xếp giảm dần:\", sorted_array)\n",
    "\n",
    "# In ra các số chẵn trong mảng\n",
    "even_numbers = [num for num in array if num % 2 == 0]\n",
    "print(\"Các số chẵn trong mảng:\", even_numbers)\n"
   ]
  },
  {
   "cell_type": "markdown",
   "metadata": {
    "id": "hgGOt_Cxyulx"
   },
   "source": [
    "4. Viết chương trình yêu cầu người dùng nhập họ tên. Hiển thị tên người dùng sau khi đã chuẩn hóa. Biết rằng tên đã chuẩn hóa là:\n",
    "- Ký tự đầu viết hoa\n",
    "- Không có khoảng trắng thừa\n",
    "- Không có ký tự đặc biệt"
   ]
  },
  {
   "cell_type": "code",
   "execution_count": 2,
   "metadata": {
    "id": "duR4BF8Dyu_w"
   },
   "outputs": [
    {
     "name": "stdout",
     "output_type": "stream",
     "text": [
      "Nhập họ tên của bạn: Vo Van Tuong\n",
      "Tên sau khi chuẩn hóa: Vo Van Tuong\n"
     ]
    }
   ],
   "source": [
    "import re\n",
    "\n",
    "def chuan_hoa_ten(ten):\n",
    "    # Loại bỏ các ký tự đặc biệt\n",
    "    ten = re.sub(r'[^a-zA-Z\\s]', '', ten)\n",
    "\n",
    "    # Loại bỏ khoảng trắng thừa\n",
    "    ten = ' '.join(ten.split())\n",
    "\n",
    "    # Viết hoa ký tự đầu của mỗi từ\n",
    "    ten_chuan_hoa = ten.title()\n",
    "\n",
    "    return ten_chuan_hoa\n",
    "\n",
    "# Nhập họ tên\n",
    "ho_ten = input(\"Nhập họ tên của bạn: \")\n",
    "\n",
    "# Chuẩn hóa họ tên\n",
    "ten_da_chuan_hoa = chuan_hoa_ten(ho_ten)\n",
    "\n",
    "# Hiển thị kết quả\n",
    "print(\"Tên sau khi chuẩn hóa:\", ten_da_chuan_hoa)\n"
   ]
  },
  {
   "cell_type": "markdown",
   "metadata": {
    "id": "W5KucasA0NSA"
   },
   "source": [
    "5. Viết chương trình nhập vào một số nguyên dương (n>0). Cho biết n có phải là số đối xứng hay không? Biết số đối xứng là số viết xuôi hay viết ngược đều như nhau"
   ]
  },
  {
   "cell_type": "code",
   "execution_count": 5,
   "metadata": {
    "id": "FTH5V3je0YPg"
   },
   "outputs": [
    {
     "name": "stdout",
     "output_type": "stream",
     "text": [
      "Nhập một số nguyên dương (n > 0): 17\n",
      "17 không phải là số đối xứng.\n"
     ]
    }
   ],
   "source": [
    "def kiem_tra_so_doi_xung(n):\n",
    "    # Chuyển số thành chuỗi\n",
    "    n_str = str(n)\n",
    "    # So sánh chuỗi xuôi và chuỗi ngược\n",
    "    return n_str == n_str[::-1]\n",
    "\n",
    "# Nhập số nguyên dương\n",
    "while True:\n",
    "    try:\n",
    "        n = int(input(\"Nhập một số nguyên dương (n > 0): \"))\n",
    "        if n > 0:\n",
    "            break\n",
    "        else:\n",
    "            print(\"Vui lòng nhập số lớn hơn 0.\")\n",
    "    except ValueError:\n",
    "        print(\"Vui lòng nhập một số nguyên dương hợp lệ.\")\n",
    "\n",
    "# Kiểm tra và hiển thị kết quả\n",
    "if kiem_tra_so_doi_xung(n):\n",
    "    print(f\"{n} là số đối xứng.\")\n",
    "else:\n",
    "    print(f\"{n} không phải là số đối xứng.\")\n"
   ]
  },
  {
   "cell_type": "markdown",
   "metadata": {},
   "source": [
    "6. Với số nguyên n nhất định, hãy viết chương trình hiển thị dictionary chứa các cặp (i, i*i) ; biết i có giá trị từ 1..n\n"
   ]
  },
  {
   "cell_type": "code",
   "execution_count": 6,
   "metadata": {},
   "outputs": [
    {
     "name": "stdout",
     "output_type": "stream",
     "text": [
      "Nhập một số nguyên dương n: 8\n",
      "Dictionary chứa các cặp (i, i*i): {1: 1, 2: 4, 3: 9, 4: 16, 5: 25, 6: 36, 7: 49, 8: 64}\n"
     ]
    }
   ],
   "source": [
    "def tao_dictionary(n):\n",
    "    # Tạo dictionary với các cặp (i, i*i)\n",
    "    return {i: i*i for i in range(1, n+1)}\n",
    "\n",
    "# Nhập số nguyên dương n\n",
    "while True:\n",
    "    try:\n",
    "        n = int(input(\"Nhập một số nguyên dương n: \"))\n",
    "        if n > 0:\n",
    "            break\n",
    "        else:\n",
    "            print(\"Vui lòng nhập số nguyên dương n > 0.\")\n",
    "    except ValueError:\n",
    "        print(\"Vui lòng nhập một số nguyên hợp lệ.\")\n",
    "\n",
    "# Tạo và hiển thị dictionary\n",
    "dictionary = tao_dictionary(n)\n",
    "print(\"Dictionary chứa các cặp (i, i*i):\", dictionary)\n"
   ]
  },
  {
   "cell_type": "markdown",
   "metadata": {},
   "source": [
    "7. Viết chương trình tìm tất cả các số chia hết cho 7 nhưng không phải bội số của 5, nằm trong đoạn 2000 và 3200 (tính cả 2000 và 3200). Các số thu được sẽ được in thành chuỗi trên một dòng, cách nhau bằng dấu phẩy"
   ]
  },
  {
   "cell_type": "code",
   "execution_count": 7,
   "metadata": {},
   "outputs": [
    {
     "name": "stdout",
     "output_type": "stream",
     "text": [
      "2002,2009,2016,2023,2037,2044,2051,2058,2072,2079,2086,2093,2107,2114,2121,2128,2142,2149,2156,2163,2177,2184,2191,2198,2212,2219,2226,2233,2247,2254,2261,2268,2282,2289,2296,2303,2317,2324,2331,2338,2352,2359,2366,2373,2387,2394,2401,2408,2422,2429,2436,2443,2457,2464,2471,2478,2492,2499,2506,2513,2527,2534,2541,2548,2562,2569,2576,2583,2597,2604,2611,2618,2632,2639,2646,2653,2667,2674,2681,2688,2702,2709,2716,2723,2737,2744,2751,2758,2772,2779,2786,2793,2807,2814,2821,2828,2842,2849,2856,2863,2877,2884,2891,2898,2912,2919,2926,2933,2947,2954,2961,2968,2982,2989,2996,3003,3017,3024,3031,3038,3052,3059,3066,3073,3087,3094,3101,3108,3122,3129,3136,3143,3157,3164,3171,3178,3192,3199\n"
     ]
    }
   ],
   "source": [
    "# Tìm các số chia hết cho 7 nhưng không phải bội số của 5 trong đoạn từ 2000 đến 3200\n",
    "result = [str(i) for i in range(2000, 3201) if i % 7 == 0 and i % 5 != 0]\n",
    "\n",
    "# In các số tìm được thành chuỗi, cách nhau bằng dấu phẩy\n",
    "print(\",\".join(result))\n"
   ]
  },
  {
   "cell_type": "markdown",
   "metadata": {},
   "source": [
    "8. Viết chương trình chấp nhận một chuỗi số, phân tách bằng dấu phẩy từ giao diện điều khiển, tạo ra một List và một tuple chứa mọi số.\n",
    "\n",
    "    Ví dụ:\n",
    "\n",
    "    ```\n",
    "    Đầu vào được cung cấp là '34,67,55,33,12,98' thì đầu ra là:\n",
    "\n",
    "    [34, 67, 55, 33, 12, 98]\n",
    "    (34, 67, 55, 33, 12, 98)\n",
    "    ```\n"
   ]
  },
  {
   "cell_type": "code",
   "execution_count": 1,
   "metadata": {},
   "outputs": [
    {
     "name": "stdout",
     "output_type": "stream",
     "text": [
      "List chứa các số: [34, 67, 55, 33, 12, 98]\n",
      "Tuple chứa các số: (34, 67, 55, 33, 12, 98)\n"
     ]
    }
   ],
   "source": [
    "# Nhập chuỗi số, phân tách bằng dấu phẩy\n",
    "input_string = input(\"Nhập chuỗi các số, phân tách bằng dấu phẩy: \")\n",
    "\n",
    "# Chuyển chuỗi thành danh sách (List) bằng cách tách chuỗi theo dấu phẩy và chuyển mỗi phần tử thành số nguyên\n",
    "number_list = [int(i) for i in input_string.split(',')]\n",
    "\n",
    "# Tạo tuple từ danh sách\n",
    "number_tuple = tuple(number_list)\n",
    "\n",
    "# Hiển thị kết quả\n",
    "print(\"List chứa các số:\", number_list)\n",
    "print(\"Tuple chứa các số:\", number_tuple)\n"
   ]
  },
  {
   "cell_type": "markdown",
   "metadata": {},
   "source": [
    "9. Viết hàm nhận vào một danh sách các số nguyên. Hãy viết hàm trả về một danh sách gồm các số không trùng nhau trong danh sách ban đầu"
   ]
  },
  {
   "cell_type": "code",
   "execution_count": 10,
   "metadata": {},
   "outputs": [
    {
     "name": "stdout",
     "output_type": "stream",
     "text": [
      "Danh sách các số không trùng nhau: [1, 2, 3, 4, 5, 6, 7]\n"
     ]
    }
   ],
   "source": [
    "def lay_so_khong_trung(numerical_list):\n",
    "    # Dùng set để loại bỏ các số trùng nhau và chuyển lại thành list\n",
    "    unique_list = list(set(numerical_list))\n",
    "    return unique_list\n",
    "\n",
    "# Ví dụ sử dụng hàm\n",
    "input_list = [1, 2, 2, 3, 4, 4, 5, 6, 6, 7]\n",
    "result = lay_so_khong_trung(input_list)\n",
    "print(\"Danh sách các số không trùng nhau:\", result)\n"
   ]
  },
  {
   "cell_type": "markdown",
   "metadata": {},
   "source": [
    "10. Viết hàm có tham số đầu vào là một list L có các phần tử là chuỗi. Hãy tạo ra một dictionary D mã hóa, với mỗi một phần tử trong L được mã hóa thành một con số (theo thứ tự từ 0 tăng dần lên 1 đơn vị). Sau đó trả về list đã được mã hóa\n",
    "\n",
    "    Ví dụ:\n",
    "\n",
    "    ```\n",
    "    Cho L = [\"đen\",\"vàng\",\"xanh\",\"vàng\",\"xanh\",\"đỏ\",\"hồng\"]\n",
    "\n",
    "    Xây dựng dictionary mã hóa:\n",
    "    D = {'đen':0,'vàng':1,'xanh':2,'đỏ':3,'hồng':4}\n",
    "\n",
    "    Trả về List mã hóa:\n",
    "    L_mahoa = [0, 1, 2, 1, 2, 3, 4]\n",
    "    ```"
   ]
  },
  {
   "cell_type": "code",
   "execution_count": 9,
   "metadata": {},
   "outputs": [
    {
     "name": "stdout",
     "output_type": "stream",
     "text": [
      "Danh sách đã được mã hóa: [0, 1, 2, 3]\n"
     ]
    }
   ],
   "source": [
    "def ma_hoa_list(L):\n",
    "    # Tạo dictionary mã hóa các chuỗi thành số theo thứ tự\n",
    "    ma_hoa_dict = {string: idx for idx, string in enumerate(L)}\n",
    "    \n",
    "    # Mã hóa danh sách L thành các số tương ứng\n",
    "    ma_hoa_list = [ma_hoa_dict[string] for string in L]\n",
    "    \n",
    "    return ma_hoa_list\n",
    "\n",
    "# Ví dụ sử dụng hàm\n",
    "input_list = [\"apple\", \"banana\", \"cherry\", \"date\"]\n",
    "result = ma_hoa_list(input_list)\n",
    "print(\"Danh sách đã được mã hóa:\", result)\n"
   ]
  },
  {
   "cell_type": "markdown",
   "metadata": {},
   "source": [
    "---"
   ]
  }
 ],
 "metadata": {
  "colab": {
   "authorship_tag": "ABX9TyOelhBBO7DINQ7b3uUiVhbi",
   "provenance": []
  },
  "kernelspec": {
   "display_name": "Python 3",
   "language": "python",
   "name": "python3"
  },
  "language_info": {
   "codemirror_mode": {
    "name": "ipython",
    "version": 3
   },
   "file_extension": ".py",
   "mimetype": "text/x-python",
   "name": "python",
   "nbconvert_exporter": "python",
   "pygments_lexer": "ipython3",
   "version": "3.12.4"
  }
 },
 "nbformat": 4,
 "nbformat_minor": 1
}
